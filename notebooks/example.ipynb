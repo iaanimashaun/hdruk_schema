{
  "cells": [
    {
      "cell_type": "code",
      "execution_count": null,
      "metadata": {
        "colab": {
          "base_uri": "https://localhost:8080/"
        },
        "id": "5cRGvx5qsW8z",
        "outputId": "45403348-f013-4716-f08a-fe69108f64be"
      },
      "outputs": [
        {
          "name": "stdout",
          "output_type": "stream",
          "text": [
            "  Building wheel for validate-email (setup.py) ... \u001b[?25l\u001b[?25hdone\n",
            "  Building wheel for validators (setup.py) ... \u001b[?25l\u001b[?25hdone\n"
          ]
        }
      ],
      "source": [
        "!pip install hdruk-schema -q"
      ]
    },
    {
      "cell_type": "code",
      "execution_count": null,
      "metadata": {
        "id": "ycFnZzGzRDOW"
      },
      "outputs": [],
      "source": [
        "# Import necessary packages\n",
        "import pandas as pd\n"
      ]
    },
    {
      "cell_type": "code",
      "execution_count": null,
      "metadata": {
        "colab": {
          "base_uri": "https://localhost:8080/"
        },
        "id": "JPBcbzvIwbiT",
        "outputId": "f5352c43-a3f7-4278-b167-ebfb8f258134"
      },
      "outputs": [
        {
          "name": "stdout",
          "output_type": "stream",
          "text": [
            "--2022-08-14 05:51:14--  https://raw.githubusercontent.com/HDRUK/datasets/master/datasets.v2.json\n",
            "Resolving raw.githubusercontent.com (raw.githubusercontent.com)... 185.199.108.133, 185.199.109.133, 185.199.110.133, ...\n",
            "Connecting to raw.githubusercontent.com (raw.githubusercontent.com)|185.199.108.133|:443... connected.\n",
            "HTTP request sent, awaiting response... 200 OK\n",
            "Length: 48591086 (46M) [text/plain]\n",
            "Saving to: ‘datasets.v2.json’\n",
            "\n",
            "datasets.v2.json    100%[===================>]  46.34M   208MB/s    in 0.2s    \n",
            "\n",
            "2022-08-14 05:51:16 (208 MB/s) - ‘datasets.v2.json’ saved [48591086/48591086]\n",
            "\n"
          ]
        }
      ],
      "source": [
        "# Download metadata\n",
        "!wget https://raw.githubusercontent.com/HDRUK/datasets/master/datasets.v2.json"
      ]
    },
    {
      "cell_type": "code",
      "execution_count": null,
      "metadata": {
        "colab": {
          "base_uri": "https://localhost:8080/"
        },
        "id": "8sxvWsj1xDTg",
        "outputId": "d9de88ba-1eb6-4253-a565-b4a169e853c8"
      },
      "outputs": [
        {
          "name": "stdout",
          "output_type": "stream",
          "text": [
            "--2022-08-14 05:51:16--  https://hdruk.github.io/schemata/schema/dataset/latest/dataset.schema.json\n",
            "Resolving hdruk.github.io (hdruk.github.io)... 185.199.111.153, 185.199.110.153, 185.199.108.153, ...\n",
            "Connecting to hdruk.github.io (hdruk.github.io)|185.199.111.153|:443... connected.\n",
            "HTTP request sent, awaiting response... 200 OK\n",
            "Length: 67915 (66K) [application/json]\n",
            "Saving to: ‘dataset.schema.json’\n",
            "\n",
            "dataset.schema.json 100%[===================>]  66.32K  --.-KB/s    in 0.007s  \n",
            "\n",
            "2022-08-14 05:51:17 (9.41 MB/s) - ‘dataset.schema.json’ saved [67915/67915]\n",
            "\n"
          ]
        }
      ],
      "source": [
        "# Download schema\n",
        "!wget https://hdruk.github.io/schemata/schema/dataset/latest/dataset.schema.json"
      ]
    },
    {
      "cell_type": "code",
      "execution_count": null,
      "metadata": {
        "id": "FnZjWIi84yzh"
      },
      "outputs": [],
      "source": [
        "from hdruk_schema.schema_validator import schema_validator"
      ]
    },
    {
      "cell_type": "code",
      "execution_count": null,
      "metadata": {
        "id": "TKsROsbN4_uj"
      },
      "outputs": [],
      "source": [
        "metadata_filepath = \"datasets.v2.json\"\n",
        "schema_filepath = \"dataset.schema.json\""
      ]
    },
    {
      "cell_type": "code",
      "execution_count": null,
      "metadata": {
        "colab": {
          "base_uri": "https://localhost:8080/"
        },
        "id": "5rdqEctg4ywE",
        "outputId": "6e5a1fda-2637-4237-ac92-5312f61e0b99"
      },
      "outputs": [
        {
          "name": "stdout",
          "output_type": "stream",
          "text": [
            "\n",
            "\n",
            "\u001b[34mChecking identifier for conformity with hdruk schema\u001b[0m\n",
            "\u001b[32mChecking identifier complete\u001b[0m \u001b[32m✓\u001b[0m\n",
            "+------------+---------------------------+\n",
            "|  Property  | No of non-conforming rows |\n",
            "+------------+---------------------------+\n",
            "| identifier |            None           |\n",
            "+------------+---------------------------+\n",
            "\n",
            "\n",
            "\u001b[34mChecking version for conformity with hdruk schema\u001b[0m\n",
            "\u001b[32mChecking version complete\u001b[0m \u001b[32m✓\u001b[0m\n",
            "+----------+---------------------------+\n",
            "| Property | No of non-conforming rows |\n",
            "+----------+---------------------------+\n",
            "| version  |            None           |\n",
            "+----------+---------------------------+\n",
            "\n",
            "\n",
            "\u001b[34mChecking documentation for conformity with hdruk schema\u001b[0m\n",
            "\u001b[32mChecking documentation complete\u001b[0m \u001b[32m✓\u001b[0m\n",
            "+-----------------+---------------------------+\n",
            "|     Property    | No of non-conforming rows |\n",
            "+-----------------+---------------------------+\n",
            "|   description   |             21            |\n",
            "| associatedMedia |            422            |\n",
            "|     isPartOf    |             97            |\n",
            "+-----------------+---------------------------+\n",
            "\n",
            "\n",
            "\u001b[34mChecking accessibility for conformity with hdruk schema\u001b[0m\n",
            "\u001b[32mChecking accessibility complete\u001b[0m \u001b[32m✓\u001b[0m\n",
            "+--------------------------+---------------------------+\n",
            "|         Property         | No of non-conforming rows |\n",
            "+--------------------------+---------------------------+\n",
            "|      investigations      |            501            |\n",
            "|      isReferencedBy      |            763            |\n",
            "|     resourceCreator      |            490            |\n",
            "|    dataUseLimitation     |            187            |\n",
            "|   dataUseRequirements    |            763            |\n",
            "| vocabularyEncodingScheme |            148            |\n",
            "|        conformsTo        |            678            |\n",
            "|         language         |            657            |\n",
            "|          format          |            814            |\n",
            "|     deliveryLeadTime     |            848            |\n",
            "|      accessService       |            315            |\n",
            "|    accessRequestCost     |            410            |\n",
            "|      dataProcessor       |            120            |\n",
            "|       accessRights       |            211            |\n",
            "|      dataController      |             59            |\n",
            "|       jurisdiction       |             22            |\n",
            "+--------------------------+---------------------------+\n"
          ]
        }
      ],
      "source": [
        "result = schema_validator(metadata_filepath, schema_filepath)"
      ]
    },
    {
      "cell_type": "code",
      "execution_count": null,
      "metadata": {
        "colab": {
          "base_uri": "https://localhost:8080/",
          "height": 424
        },
        "id": "cUoXSLBs4yss",
        "outputId": "a1b5d25b-3cf0-4624-b459-87bb08de6968"
      },
      "outputs": [
        {
          "data": {
            "text/html": [
              "\n",
              "  <div id=\"df-13498a7e-9b00-4805-971d-06ad0689db88\">\n",
              "    <div class=\"colab-df-container\">\n",
              "      <div>\n",
              "<style scoped>\n",
              "    .dataframe tbody tr th:only-of-type {\n",
              "        vertical-align: middle;\n",
              "    }\n",
              "\n",
              "    .dataframe tbody tr th {\n",
              "        vertical-align: top;\n",
              "    }\n",
              "\n",
              "    .dataframe thead th {\n",
              "        text-align: right;\n",
              "    }\n",
              "</style>\n",
              "<table border=\"1\" class=\"dataframe\">\n",
              "  <thead>\n",
              "    <tr style=\"text-align: right;\">\n",
              "      <th></th>\n",
              "      <th>identifier</th>\n",
              "      <th>version</th>\n",
              "      <th>documentation</th>\n",
              "      <th>accessibility</th>\n",
              "    </tr>\n",
              "  </thead>\n",
              "  <tbody>\n",
              "    <tr>\n",
              "      <th>0</th>\n",
              "      <td>True</td>\n",
              "      <td>True</td>\n",
              "      <td>{'description': True, 'associatedMedia': True}</td>\n",
              "      <td>{'usage': 'NA', 'formatAndStandards': {'vocabu...</td>\n",
              "    </tr>\n",
              "    <tr>\n",
              "      <th>1</th>\n",
              "      <td>True</td>\n",
              "      <td>True</td>\n",
              "      <td>{'description': True, 'isPartOf': True, 'assoc...</td>\n",
              "      <td>{'usage': {'investigations': True, 'isReferenc...</td>\n",
              "    </tr>\n",
              "    <tr>\n",
              "      <th>2</th>\n",
              "      <td>True</td>\n",
              "      <td>True</td>\n",
              "      <td>{'description': True, 'associatedMedia': True,...</td>\n",
              "      <td>{'access': {'deliveryLeadTime': False, 'dataPr...</td>\n",
              "    </tr>\n",
              "    <tr>\n",
              "      <th>3</th>\n",
              "      <td>True</td>\n",
              "      <td>True</td>\n",
              "      <td>{'description': True, 'isPartOf': True}</td>\n",
              "      <td>{'access': {'accessService': 'NA', 'dataProces...</td>\n",
              "    </tr>\n",
              "    <tr>\n",
              "      <th>4</th>\n",
              "      <td>True</td>\n",
              "      <td>True</td>\n",
              "      <td>{'description': True, 'isPartOf': True}</td>\n",
              "      <td>{'access': {'accessService': 'NA', 'jurisdicti...</td>\n",
              "    </tr>\n",
              "    <tr>\n",
              "      <th>...</th>\n",
              "      <td>...</td>\n",
              "      <td>...</td>\n",
              "      <td>...</td>\n",
              "      <td>...</td>\n",
              "    </tr>\n",
              "    <tr>\n",
              "      <th>843</th>\n",
              "      <td>True</td>\n",
              "      <td>True</td>\n",
              "      <td>{'description': True, 'isPartOf': True, 'assoc...</td>\n",
              "      <td>{'formatAndStandards': {'vocabularyEncodingSch...</td>\n",
              "    </tr>\n",
              "    <tr>\n",
              "      <th>844</th>\n",
              "      <td>True</td>\n",
              "      <td>True</td>\n",
              "      <td>{'description': True, 'associatedMedia': False...</td>\n",
              "      <td>{'usage': {'investigations': 'NA', 'isReferenc...</td>\n",
              "    </tr>\n",
              "    <tr>\n",
              "      <th>845</th>\n",
              "      <td>True</td>\n",
              "      <td>True</td>\n",
              "      <td>{'description': True}</td>\n",
              "      <td>{'usage': {'investigations': 'NA', 'isReferenc...</td>\n",
              "    </tr>\n",
              "    <tr>\n",
              "      <th>846</th>\n",
              "      <td>True</td>\n",
              "      <td>True</td>\n",
              "      <td>{'description': True}</td>\n",
              "      <td>{'usage': 'NA', 'formatAndStandards': {'vocabu...</td>\n",
              "    </tr>\n",
              "    <tr>\n",
              "      <th>847</th>\n",
              "      <td>True</td>\n",
              "      <td>True</td>\n",
              "      <td>{'description': True, 'isPartOf': True}</td>\n",
              "      <td>{'access': {'accessService': 'NA', 'deliveryLe...</td>\n",
              "    </tr>\n",
              "  </tbody>\n",
              "</table>\n",
              "<p>848 rows × 4 columns</p>\n",
              "</div>\n",
              "      <button class=\"colab-df-convert\" onclick=\"convertToInteractive('df-13498a7e-9b00-4805-971d-06ad0689db88')\"\n",
              "              title=\"Convert this dataframe to an interactive table.\"\n",
              "              style=\"display:none;\">\n",
              "        \n",
              "  <svg xmlns=\"http://www.w3.org/2000/svg\" height=\"24px\"viewBox=\"0 0 24 24\"\n",
              "       width=\"24px\">\n",
              "    <path d=\"M0 0h24v24H0V0z\" fill=\"none\"/>\n",
              "    <path d=\"M18.56 5.44l.94 2.06.94-2.06 2.06-.94-2.06-.94-.94-2.06-.94 2.06-2.06.94zm-11 1L8.5 8.5l.94-2.06 2.06-.94-2.06-.94L8.5 2.5l-.94 2.06-2.06.94zm10 10l.94 2.06.94-2.06 2.06-.94-2.06-.94-.94-2.06-.94 2.06-2.06.94z\"/><path d=\"M17.41 7.96l-1.37-1.37c-.4-.4-.92-.59-1.43-.59-.52 0-1.04.2-1.43.59L10.3 9.45l-7.72 7.72c-.78.78-.78 2.05 0 2.83L4 21.41c.39.39.9.59 1.41.59.51 0 1.02-.2 1.41-.59l7.78-7.78 2.81-2.81c.8-.78.8-2.07 0-2.86zM5.41 20L4 18.59l7.72-7.72 1.47 1.35L5.41 20z\"/>\n",
              "  </svg>\n",
              "      </button>\n",
              "      \n",
              "  <style>\n",
              "    .colab-df-container {\n",
              "      display:flex;\n",
              "      flex-wrap:wrap;\n",
              "      gap: 12px;\n",
              "    }\n",
              "\n",
              "    .colab-df-convert {\n",
              "      background-color: #E8F0FE;\n",
              "      border: none;\n",
              "      border-radius: 50%;\n",
              "      cursor: pointer;\n",
              "      display: none;\n",
              "      fill: #1967D2;\n",
              "      height: 32px;\n",
              "      padding: 0 0 0 0;\n",
              "      width: 32px;\n",
              "    }\n",
              "\n",
              "    .colab-df-convert:hover {\n",
              "      background-color: #E2EBFA;\n",
              "      box-shadow: 0px 1px 2px rgba(60, 64, 67, 0.3), 0px 1px 3px 1px rgba(60, 64, 67, 0.15);\n",
              "      fill: #174EA6;\n",
              "    }\n",
              "\n",
              "    [theme=dark] .colab-df-convert {\n",
              "      background-color: #3B4455;\n",
              "      fill: #D2E3FC;\n",
              "    }\n",
              "\n",
              "    [theme=dark] .colab-df-convert:hover {\n",
              "      background-color: #434B5C;\n",
              "      box-shadow: 0px 1px 3px 1px rgba(0, 0, 0, 0.15);\n",
              "      filter: drop-shadow(0px 1px 2px rgba(0, 0, 0, 0.3));\n",
              "      fill: #FFFFFF;\n",
              "    }\n",
              "  </style>\n",
              "\n",
              "      <script>\n",
              "        const buttonEl =\n",
              "          document.querySelector('#df-13498a7e-9b00-4805-971d-06ad0689db88 button.colab-df-convert');\n",
              "        buttonEl.style.display =\n",
              "          google.colab.kernel.accessAllowed ? 'block' : 'none';\n",
              "\n",
              "        async function convertToInteractive(key) {\n",
              "          const element = document.querySelector('#df-13498a7e-9b00-4805-971d-06ad0689db88');\n",
              "          const dataTable =\n",
              "            await google.colab.kernel.invokeFunction('convertToInteractive',\n",
              "                                                     [key], {});\n",
              "          if (!dataTable) return;\n",
              "\n",
              "          const docLinkHtml = 'Like what you see? Visit the ' +\n",
              "            '<a target=\"_blank\" href=https://colab.research.google.com/notebooks/data_table.ipynb>data table notebook</a>'\n",
              "            + ' to learn more about interactive tables.';\n",
              "          element.innerHTML = '';\n",
              "          dataTable['output_type'] = 'display_data';\n",
              "          await google.colab.output.renderOutput(dataTable, element);\n",
              "          const docLink = document.createElement('div');\n",
              "          docLink.innerHTML = docLinkHtml;\n",
              "          element.appendChild(docLink);\n",
              "        }\n",
              "      </script>\n",
              "    </div>\n",
              "  </div>\n",
              "  "
            ],
            "text/plain": [
              "     identifier  version                                      documentation  \\\n",
              "0          True     True     {'description': True, 'associatedMedia': True}   \n",
              "1          True     True  {'description': True, 'isPartOf': True, 'assoc...   \n",
              "2          True     True  {'description': True, 'associatedMedia': True,...   \n",
              "3          True     True            {'description': True, 'isPartOf': True}   \n",
              "4          True     True            {'description': True, 'isPartOf': True}   \n",
              "..          ...      ...                                                ...   \n",
              "843        True     True  {'description': True, 'isPartOf': True, 'assoc...   \n",
              "844        True     True  {'description': True, 'associatedMedia': False...   \n",
              "845        True     True                              {'description': True}   \n",
              "846        True     True                              {'description': True}   \n",
              "847        True     True            {'description': True, 'isPartOf': True}   \n",
              "\n",
              "                                         accessibility  \n",
              "0    {'usage': 'NA', 'formatAndStandards': {'vocabu...  \n",
              "1    {'usage': {'investigations': True, 'isReferenc...  \n",
              "2    {'access': {'deliveryLeadTime': False, 'dataPr...  \n",
              "3    {'access': {'accessService': 'NA', 'dataProces...  \n",
              "4    {'access': {'accessService': 'NA', 'jurisdicti...  \n",
              "..                                                 ...  \n",
              "843  {'formatAndStandards': {'vocabularyEncodingSch...  \n",
              "844  {'usage': {'investigations': 'NA', 'isReferenc...  \n",
              "845  {'usage': {'investigations': 'NA', 'isReferenc...  \n",
              "846  {'usage': 'NA', 'formatAndStandards': {'vocabu...  \n",
              "847  {'access': {'accessService': 'NA', 'deliveryLe...  \n",
              "\n",
              "[848 rows x 4 columns]"
            ]
          },
          "execution_count": 8,
          "metadata": {},
          "output_type": "execute_result"
        }
      ],
      "source": [
        "pd.DataFrame(result)"
      ]
    }
  ],
  "metadata": {
    "colab": {
      "collapsed_sections": [],
      "name": "HDRUK Group 10 Tech-Challenge.ipynb",
      "provenance": []
    },
    "kernelspec": {
      "display_name": "Python 3.8.13 ('hdruk')",
      "language": "python",
      "name": "python3"
    },
    "language_info": {
      "name": "python",
      "version": "3.8.13"
    },
    "vscode": {
      "interpreter": {
        "hash": "ff161b2a4ef06e9db206c58d4c2d3f59f05046f8dfd4208e5c41356076289b26"
      }
    }
  },
  "nbformat": 4,
  "nbformat_minor": 0
}
